{
 "cells": [
  {
   "cell_type": "markdown",
   "metadata": {},
   "source": [
    "# WeatherAPI (Weather)\n",
    "\n",
    "Answer the following questions using [WeatherAPI](http://www.weatherapi.com/). I've added three cells for most questions but you're free to use more or less! Hold `Shift` and hit `Enter` to run a cell, and use the `+` on the top left to add a new cell to a notebook.\n",
    "\n",
    "Be sure to take advantage of both the documentation and the API Explorer!\n",
    "\n",
    "## 0) Import any libraries you might need\n",
    "\n",
    "- *Tip: We're going to be downloading things from the internet, so we probably need `requests`.*\n",
    "- *Tip: Remember you only need to import requests once!*"
   ]
  },
  {
   "cell_type": "code",
   "execution_count": 1,
   "metadata": {},
   "outputs": [],
   "source": [
    "import requests"
   ]
  },
  {
   "cell_type": "code",
   "execution_count": null,
   "metadata": {
    "collapsed": true
   },
   "outputs": [],
   "source": []
  },
  {
   "cell_type": "markdown",
   "metadata": {
    "collapsed": true
   },
   "source": [
    "## 1) Make a request to the Weather API for where you were born (or lived, or want to visit!).\n",
    "\n",
    "- *Tip: The URL we used in class was for a place near San Francisco. What was the format of the endpoint that made this happen?*\n",
    "- *Tip: Save the URL as a separate variable, and be sure to not have `[` and `]` inside.*\n",
    "- *Tip: How is north vs. south and east vs. west latitude/longitude represented? Is it the normal North/South/East/West?*\n",
    "- *Tip: You know it's JSON, but Python doesn't! Make sure you aren't trying to deal with plain text.* \n",
    "- *Tip: Once you've imported the JSON into a variable, check the timezone's name to make sure it seems like it got the right part of the world!*"
   ]
  },
  {
   "cell_type": "code",
   "execution_count": 55,
   "metadata": {},
   "outputs": [],
   "source": [
    "url = \"http://api.weatherapi.com/v1/current.json?key=0b7eca5ec81f4365a3f175434221406&q=Miami&aqi=no\""
   ]
  },
  {
   "cell_type": "code",
   "execution_count": 56,
   "metadata": {},
   "outputs": [],
   "source": [
    "response = requests.get(url)"
   ]
  },
  {
   "cell_type": "code",
   "execution_count": 57,
   "metadata": {},
   "outputs": [],
   "source": [
    "data = response.json()"
   ]
  },
  {
   "cell_type": "markdown",
   "metadata": {},
   "source": [
    "## 2) What's the current wind speed? How much warmer does it feel than it actually is?\n",
    "\n",
    "- *Tip: You can do this by browsing through the dictionaries, but it might be easier to read the documentation*\n",
    "- *Tip: For the second half: it **is** one temperature, and it **feels** a different temperature. Calculate the difference.*"
   ]
  },
  {
   "cell_type": "code",
   "execution_count": 58,
   "metadata": {},
   "outputs": [
    {
     "name": "stdout",
     "output_type": "stream",
     "text": [
      "The current wind speed of Miami is 10.5 miles per hour.\n"
     ]
    }
   ],
   "source": [
    "print(\"The current wind speed of Miami is\",data['current']['wind_mph'],\"miles per hour.\")"
   ]
  },
  {
   "cell_type": "code",
   "execution_count": 60,
   "metadata": {},
   "outputs": [
    {
     "name": "stdout",
     "output_type": "stream",
     "text": [
      "It feels 5 celsius degrees warmer than it actually is.\n"
     ]
    }
   ],
   "source": [
    "print(\"It feels\", round(data['current']['feelslike_c']-data['current']['temp_c']),\"celsius degrees warmer than it actually is.\")"
   ]
  },
  {
   "cell_type": "code",
   "execution_count": null,
   "metadata": {},
   "outputs": [],
   "source": []
  },
  {
   "cell_type": "markdown",
   "metadata": {},
   "source": [
    "## 3) What is the API endpoint for moon-related information? For the place you decided on above, how much of the moon will be visible tomorrow?\n",
    "\n",
    "- *Tip: Check the documentation!*\n",
    "- *Tip: If you aren't sure what something means, ask in Slack*"
   ]
  },
  {
   "cell_type": "code",
   "execution_count": 61,
   "metadata": {},
   "outputs": [],
   "source": [
    "# Moon-related API endpoint: Astronomy API"
   ]
  },
  {
   "cell_type": "code",
   "execution_count": 62,
   "metadata": {},
   "outputs": [],
   "source": [
    "# Today is 2022-06-15, so url here is for tmr's moon's information which is 2022-06-16.\n",
    "\n",
    "url_moon_mia = \"http://api.weatherapi.com/v1/astronomy.json?key=0b7eca5ec81f4365a3f175434221406&q=Miami&dt=2022-06-16\"\n",
    "response = requests.get(url_moon_mia)\n",
    "data = response.json()"
   ]
  },
  {
   "cell_type": "code",
   "execution_count": 63,
   "metadata": {},
   "outputs": [
    {
     "name": "stdout",
     "output_type": "stream",
     "text": [
      "Full Moon will be visible tomorrow.\n"
     ]
    }
   ],
   "source": [
    "print(data['astronomy']['astro']['moon_phase'],\"will be visible tomorrow.\")"
   ]
  },
  {
   "cell_type": "markdown",
   "metadata": {},
   "source": [
    "## 4) What's the difference between the high and low temperatures for today?\n",
    "\n",
    "- *Tip: When you requested moon data, you probably overwrote your variables! If so, you'll need to make a new request.*"
   ]
  },
  {
   "cell_type": "code",
   "execution_count": 74,
   "metadata": {},
   "outputs": [],
   "source": [
    "url_differ = \"http://api.weatherapi.com/v1/history.json?key=0b7eca5ec81f4365a3f175434221406&q=Miami&dt=2022-06-15\"\n",
    "response = requests.get(url_differ)\n",
    "data = response.json()"
   ]
  },
  {
   "cell_type": "code",
   "execution_count": 75,
   "metadata": {},
   "outputs": [
    {
     "name": "stdout",
     "output_type": "stream",
     "text": [
      "32.5 27.9\n"
     ]
    }
   ],
   "source": [
    "max = data['forecast']['forecastday'][0]['day']['maxtemp_c']\n",
    "min = data['forecast']['forecastday'][0]['day']['mintemp_c']\n",
    "difference = max - min\n",
    "print(max, min)"
   ]
  },
  {
   "cell_type": "code",
   "execution_count": 76,
   "metadata": {},
   "outputs": [
    {
     "name": "stdout",
     "output_type": "stream",
     "text": [
      "The difference between the high and low temperatures for today is 5 celsius degrees.\n"
     ]
    }
   ],
   "source": [
    "print(\"The difference between the high and low temperatures for today is\", round(difference),\"celsius degrees.\")"
   ]
  },
  {
   "cell_type": "markdown",
   "metadata": {
    "collapsed": true
   },
   "source": [
    "## 4.5) How can you avoid the \"oh no I don't have the data any more because I made another request\" problem in the future?\n",
    "\n",
    "What variable(s) do you have to rename, and what would you rename them?"
   ]
  },
  {
   "cell_type": "code",
   "execution_count": null,
   "metadata": {},
   "outputs": [],
   "source": [
    "# url, response and data are three variables that will need to be renamed to ensure every time I make another request, my variables won't be overwritten!"
   ]
  },
  {
   "cell_type": "code",
   "execution_count": null,
   "metadata": {},
   "outputs": [],
   "source": []
  },
  {
   "cell_type": "markdown",
   "metadata": {},
   "source": [
    "## 5) Go through the daily forecasts, printing out the next three days' worth of predictions.\n",
    "\n",
    "I'd like to know the **high temperature** for each day, and whether it's **hot, warm, or cold** (based on what temperatures you think are hot, warm or cold).\n",
    "\n",
    "- *Tip: You'll need to use an `if` statement to say whether it is hot, warm or cold.*"
   ]
  },
  {
   "cell_type": "code",
   "execution_count": 77,
   "metadata": {},
   "outputs": [],
   "source": [
    "url_forecast = \"http://api.weatherapi.com/v1/forecast.json?key=0b7eca5ec81f4365a3f175434221406&q=Miami&days=3&aqi=no&alerts=no\"\n",
    "response_forecast = requests.get(url_forecast)\n",
    "data_forecast = response_forecast.json()\n"
   ]
  },
  {
   "cell_type": "code",
   "execution_count": 100,
   "metadata": {},
   "outputs": [
    {
     "name": "stdout",
     "output_type": "stream",
     "text": [
      "2022-06-15 's highest temperature is  33.0 celsius degrees.\n",
      "2022-06-15 will be really hot!\n",
      "2022-06-16 's highest temperature is  32.9 celsius degrees.\n",
      "2022-06-16 will be really hot!\n",
      "2022-06-17 's highest temperature is  32.6 celsius degrees.\n",
      "2022-06-17 will be warm.\n"
     ]
    }
   ],
   "source": [
    "for day in data_forecast['forecast']['forecastday']:\n",
    "    print(day['date'],\"'s highest temperature is \",day['day']['maxtemp_c'],\"celsius degrees.\")\n",
    "    if day['day']['maxtemp_c'] > 32.6:\n",
    "        print(day['date'],\"will be really hot!\")\n",
    "    else:\n",
    "        print(day['date'],\"will be warm.\")"
   ]
  },
  {
   "cell_type": "code",
   "execution_count": null,
   "metadata": {},
   "outputs": [],
   "source": []
  },
  {
   "cell_type": "markdown",
   "metadata": {},
   "source": [
    "## 5b) The question above used to be an entire week, but not any more. Try to re-use the code above to print out seven days.\n",
    "\n",
    "What happens? Can you figure out why it doesn't work?\n",
    "\n",
    "* *Tip: it has to do with the reason you're using an API key - maybe take a look at the \"Air Quality Data\" introduction for a hint? If you can't figure it out right now, no worries.*"
   ]
  },
  {
   "cell_type": "code",
   "execution_count": 110,
   "metadata": {},
   "outputs": [],
   "source": [
    "url_seven = \"http://api.weatherapi.com/v1/forecast.json?key=&q=Miami&days=7&aqi=no&alerts=no\"\n",
    "response_seven = requests.get(url_seven)\n",
    "data_seven = response_seven.json()"
   ]
  },
  {
   "cell_type": "code",
   "execution_count": 111,
   "metadata": {},
   "outputs": [
    {
     "name": "stdout",
     "output_type": "stream",
     "text": [
      "{'error': {'code': 1002, 'message': 'API key is invalid or not provided.'}}\n"
     ]
    }
   ],
   "source": [
    "print(data_seven)\n",
    "# it shows: {'error': {'code': 1002, 'message': 'API key is invalid or not provided.'}}"
   ]
  },
  {
   "cell_type": "code",
   "execution_count": null,
   "metadata": {},
   "outputs": [],
   "source": [
    "# The reasons why it didn't work is probably because:\n",
    "# Depending upon the subscription plan, WEATHER API provides current and 3 day air quality data for the given location in json and xml"
   ]
  },
  {
   "cell_type": "markdown",
   "metadata": {},
   "source": [
    "## 6) What will be the hottest day in the next three days? What is the high temperature on that day?"
   ]
  },
  {
   "cell_type": "code",
   "execution_count": 115,
   "metadata": {},
   "outputs": [],
   "source": [
    "url_forecast = \"http://api.weatherapi.com/v1/forecast.json?key=0b7eca5ec81f4365a3f175434221406&q=Miami&days=3&aqi=no&alerts=no\"\n",
    "response_forecast = requests.get(url_forecast)\n",
    "data_forecast = response_forecast.json()"
   ]
  },
  {
   "cell_type": "code",
   "execution_count": 126,
   "metadata": {},
   "outputs": [
    {
     "name": "stdout",
     "output_type": "stream",
     "text": [
      "2022-06-15 will be the hottest day in the next three days with the high temperature of 33.0 celsius degrees.\n"
     ]
    }
   ],
   "source": [
    "max_temp = 0\n",
    "max_temp_day = ''\n",
    "\n",
    "for day in data_forecast['forecast']['forecastday']:\n",
    "    if  day['day']['maxtemp_c'] > max_temp:\n",
    "        max_temp = day['day']['maxtemp_c']\n",
    "        max_temp_day = day['date']\n",
    "print(max_temp_day,\"will be the hottest day in the next three days with the high temperature of\",max_temp,\"celsius degrees.\")"
   ]
  },
  {
   "cell_type": "code",
   "execution_count": null,
   "metadata": {},
   "outputs": [],
   "source": []
  },
  {
   "cell_type": "markdown",
   "metadata": {},
   "source": [
    "## 7) What's the weather looking like for the next 24+ hours in Miami, Florida?\n",
    "\n",
    "I'd like to know the temperature for every hour, and if it's going to have cloud cover of more than 50% say \"{temperature} and cloudy\" instead of just the temperature. \n",
    "\n",
    "- *Tip: You'll only need one day of forecast*"
   ]
  },
  {
   "cell_type": "code",
   "execution_count": 128,
   "metadata": {},
   "outputs": [],
   "source": [
    "url_24 = \"http://api.weatherapi.com/v1/forecast.json?key=0b7eca5ec81f4365a3f175434221406&q=Miami&days=1&aqi=no&alerts=no\"\n",
    "response_24 = requests.get(url_24)\n",
    "data_24 = response_24.json()"
   ]
  },
  {
   "cell_type": "code",
   "execution_count": 162,
   "metadata": {},
   "outputs": [
    {
     "name": "stdout",
     "output_type": "stream",
     "text": [
      "2022-06-15 00:00 : 82.9 °F and 62 % of cloud cover.\n",
      "2022-06-15 01:00 : 82.8 °F and 64 % of cloud cover.\n",
      "2022-06-15 02:00 : 82.7 °F and 67 % of cloud cover.\n",
      "2022-06-15 03:00 : 82.6 °F and 69 % of cloud cover.\n",
      "2022-06-15 04:00 : 82.5 °F and 56 % of cloud cover.\n",
      "2022-06-15 05:00 : 82.3 °F\n",
      "2022-06-15 06:00 : 82.2 °F\n",
      "2022-06-15 07:00 : 82.5 °F\n",
      "2022-06-15 08:00 : 82.8 °F\n",
      "2022-06-15 09:00 : 83.1 °F\n",
      "2022-06-15 10:00 : 85.5 °F\n",
      "2022-06-15 11:00 : 87.8 °F\n",
      "2022-06-15 12:00 : 90.1 °F\n",
      "2022-06-15 13:00 : 90.3 °F\n",
      "2022-06-15 14:00 : 90.4 °F\n",
      "2022-06-15 15:00 : 90.5 °F\n",
      "2022-06-15 16:00 : 89.2 °F\n",
      "2022-06-15 17:00 : 88.0 °F\n",
      "2022-06-15 18:00 : 86.7 °F\n",
      "2022-06-15 19:00 : 85.8 °F\n",
      "2022-06-15 20:00 : 84.8 °F\n",
      "2022-06-15 21:00 : 83.8 °F\n",
      "2022-06-15 22:00 : 83.7 °F\n",
      "2022-06-15 23:00 : 83.5 °F\n"
     ]
    }
   ],
   "source": [
    "for time in data['forecast']['forecastday']:\n",
    "    for hour in time['hour']:\n",
    "        if hour['cloud'] > 50:\n",
    "            print(hour['time'],\":\",hour[\"temp_f\"], \"°F and\",hour['cloud'],\"% of cloud cover.\")\n",
    "        else:\n",
    "            print(hour['time'],\":\",hour[\"temp_f\"], \"°F\")"
   ]
  },
  {
   "cell_type": "code",
   "execution_count": null,
   "metadata": {
    "collapsed": true
   },
   "outputs": [],
   "source": []
  },
  {
   "cell_type": "markdown",
   "metadata": {},
   "source": [
    "## 8) For the next 24-ish hours in Miami, what percent of the time is the temperature above 85 degrees?\n",
    "\n",
    "- *Tip: You might want to read up on [looping patterns](http://jonathansoma.com/lede/foundations-2017/classes/data%20structures/looping-patterns/)*"
   ]
  },
  {
   "cell_type": "code",
   "execution_count": 232,
   "metadata": {},
   "outputs": [],
   "source": [
    "url_24 = \"http://api.weatherapi.com/v1/forecast.json?key=0b7eca5ec81f4365a3f175434221406&q=Miami&days=1&aqi=no&alerts=no\"\n",
    "response_24 = requests.get(url_24)\n",
    "data_24 = response_24.json()"
   ]
  },
  {
   "cell_type": "code",
   "execution_count": 244,
   "metadata": {},
   "outputs": [
    {
     "name": "stdout",
     "output_type": "stream",
     "text": [
      "41.7 % of the time is the temperature above 85 °F.\n"
     ]
    }
   ],
   "source": [
    "hour_85 = []\n",
    "max_len = 0\n",
    "\n",
    "for time in data['forecast']['forecastday']:\n",
    "    for hour in time['hour']:\n",
    "        if hour['temp_f'] > 85:\n",
    "            x = hour['time']\n",
    "            hour_85.append(x)\n",
    "            if len(hour_85)> max_len:\n",
    "                max_len = len(hour_85)\n",
    "    print(round(max_value/24 * 100,1),\"% of the time is the temperature above 85 °F.\")\n",
    "\n",
    "    # be careful print's indent here, should be aligned with the 2nd for!!"
   ]
  },
  {
   "cell_type": "code",
   "execution_count": null,
   "metadata": {},
   "outputs": [],
   "source": []
  },
  {
   "cell_type": "markdown",
   "metadata": {},
   "source": [
    "## 9) How much will it cost if you need to use 1,500,000 API calls?\n",
    "\n",
    "You are only allowed 1,000,000 API calls each month. If you were really bad at this homework or made some awful loops, WeatherAPI might shut down your free access. \n",
    "\n",
    "* *Tip: this involves looking somewhere that isn't the normal documentation.*"
   ]
  },
  {
   "cell_type": "code",
   "execution_count": null,
   "metadata": {},
   "outputs": [],
   "source": [
    "# https://www.weatherapi.com/pricing.aspx\n",
    "# It will cost you 4 dollars per month with 2,000,000 Calls persmission.\n",
    "# That way, if you need to use 1,500,000 API calls, then 1,500,000 API calls might cost you 3 dollars a month(?)"
   ]
  },
  {
   "cell_type": "code",
   "execution_count": null,
   "metadata": {},
   "outputs": [],
   "source": []
  },
  {
   "cell_type": "markdown",
   "metadata": {},
   "source": [
    "## 10) You're too poor to spend more money! What else could you do instead of give them money?\n",
    "\n",
    "* *Tip: I'm not endorsing being sneaky, but newsrooms and students are both generally poverty-stricken.*"
   ]
  },
  {
   "cell_type": "code",
   "execution_count": null,
   "metadata": {},
   "outputs": [],
   "source": [
    "# A link back to their service(?)"
   ]
  }
 ],
 "metadata": {
  "kernelspec": {
   "display_name": "Python 3 (ipykernel)",
   "language": "python",
   "name": "python3"
  },
  "language_info": {
   "codemirror_mode": {
    "name": "ipython",
    "version": 3
   },
   "file_extension": ".py",
   "mimetype": "text/x-python",
   "name": "python",
   "nbconvert_exporter": "python",
   "pygments_lexer": "ipython3",
   "version": "3.10.3"
  }
 },
 "nbformat": 4,
 "nbformat_minor": 1
}
